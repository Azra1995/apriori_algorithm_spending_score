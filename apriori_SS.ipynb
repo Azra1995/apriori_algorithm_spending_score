{
 "cells": [
  {
   "cell_type": "code",
   "execution_count": 1,
   "metadata": {},
   "outputs": [],
   "source": [
    "import pandas as pd\n",
    "import xlrd\n",
    "from mlxtend.preprocessing import TransactionEncoder\n",
    "import numpy as np\n",
    "from mlxtend.frequent_patterns import apriori\n",
    "from mlxtend.frequent_patterns import association_rules\n",
    "import plotly.express as px"
   ]
  },
  {
   "cell_type": "code",
   "execution_count": 2,
   "metadata": {},
   "outputs": [],
   "source": [
    "data = pd.read_excel ('set.xlsx', sheet_name='Sheet10', engine='openpyxl')"
   ]
  },
  {
   "cell_type": "code",
   "execution_count": 3,
   "metadata": {},
   "outputs": [
    {
     "data": {
      "text/html": [
       "<div>\n",
       "<style scoped>\n",
       "    .dataframe tbody tr th:only-of-type {\n",
       "        vertical-align: middle;\n",
       "    }\n",
       "\n",
       "    .dataframe tbody tr th {\n",
       "        vertical-align: top;\n",
       "    }\n",
       "\n",
       "    .dataframe thead th {\n",
       "        text-align: right;\n",
       "    }\n",
       "</style>\n",
       "<table border=\"1\" class=\"dataframe\">\n",
       "  <thead>\n",
       "    <tr style=\"text-align: right;\">\n",
       "      <th></th>\n",
       "      <th>InvoiceNo</th>\n",
       "      <th>Product</th>\n",
       "      <th>Quantity</th>\n",
       "      <th>SS</th>\n",
       "    </tr>\n",
       "  </thead>\n",
       "  <tbody>\n",
       "    <tr>\n",
       "      <th>0</th>\n",
       "      <td>1</td>\n",
       "      <td>Mlijeko</td>\n",
       "      <td>1</td>\n",
       "      <td>SS15</td>\n",
       "    </tr>\n",
       "    <tr>\n",
       "      <th>1</th>\n",
       "      <td>1</td>\n",
       "      <td>Voda</td>\n",
       "      <td>1</td>\n",
       "      <td>SS15</td>\n",
       "    </tr>\n",
       "    <tr>\n",
       "      <th>2</th>\n",
       "      <td>1</td>\n",
       "      <td>Sokovi</td>\n",
       "      <td>1</td>\n",
       "      <td>SS15</td>\n",
       "    </tr>\n",
       "    <tr>\n",
       "      <th>3</th>\n",
       "      <td>1</td>\n",
       "      <td>Kafa</td>\n",
       "      <td>1</td>\n",
       "      <td>SS15</td>\n",
       "    </tr>\n",
       "    <tr>\n",
       "      <th>4</th>\n",
       "      <td>1</td>\n",
       "      <td>Čokolade</td>\n",
       "      <td>1</td>\n",
       "      <td>SS15</td>\n",
       "    </tr>\n",
       "  </tbody>\n",
       "</table>\n",
       "</div>"
      ],
      "text/plain": [
       "   InvoiceNo   Product  Quantity    SS\n",
       "0          1   Mlijeko         1  SS15\n",
       "1          1      Voda         1  SS15\n",
       "2          1    Sokovi         1  SS15\n",
       "3          1      Kafa         1  SS15\n",
       "4          1  Čokolade         1  SS15"
      ]
     },
     "execution_count": 3,
     "metadata": {},
     "output_type": "execute_result"
    }
   ],
   "source": [
    "data.head()"
   ]
  },
  {
   "cell_type": "code",
   "execution_count": 4,
   "metadata": {},
   "outputs": [
    {
     "data": {
      "text/plain": [
       "Index(['InvoiceNo', 'Product', 'Quantity', 'SS'], dtype='object')"
      ]
     },
     "execution_count": 4,
     "metadata": {},
     "output_type": "execute_result"
    }
   ],
   "source": [
    "data.columns"
   ]
  },
  {
   "cell_type": "code",
   "execution_count": 5,
   "metadata": {},
   "outputs": [
    {
     "data": {
      "text/plain": [
       "array(['Mlijeko', 'Voda', 'Sokovi', 'Kafa', 'Čokolade', 'Bombone', 'Keks',\n",
       "       'Vegeta', 'So', 'Supa', 'Brašno', 'Ulje', 'Tjestenina', 'Začini',\n",
       "       'Sir', 'Jogurt', 'Piletina', 'Teletina', 'Gljive', 'Jabuke',\n",
       "       'Kruške', 'Banane', 'Limun', 'Narandža', 'Čips', 'Kolači',\n",
       "       'Deterdžent', 'Omekšivač', 'Šampon', 'Regenerator', 'Sapun',\n",
       "       'Sredstvazačišćenje', 'Krompir', 'Luk', 'Kupus', 'Paradajz',\n",
       "       'Krastavac', 'Kiselasalata', 'Salata', 'Šećer', 'Nescafe',\n",
       "       'Alkoholnapića', 'Pastazazube', 'Toaletpapir', 'Riža', 'Kukuruz',\n",
       "       'Kreme', 'Smoki', 'Grisini', 'Kikiriki', 'Kokice', 'Žvake',\n",
       "       'Mineralnavoda', 'Ostalagaziranapića', 'Puding', 'Šlag',\n",
       "       'Vrhnjezakuhanje', 'Kockazakafu', 'Puder', 'Maskara', 'Labelo',\n",
       "       'Četkazakosu', 'Parfem', 'Lakzanokte', 'Lakzakosu', 'Aceton',\n",
       "       'Energetskapića', 'Lijekovi', 'Biljnipreparati', 'Čajevi', 'Jaja',\n",
       "       'Hljeb', 'Sjajzausne', 'Karmin', 'Korektor'], dtype=object)"
      ]
     },
     "execution_count": 5,
     "metadata": {},
     "output_type": "execute_result"
    }
   ],
   "source": [
    "data.Product.unique()"
   ]
  },
  {
   "cell_type": "code",
   "execution_count": 6,
   "metadata": {},
   "outputs": [
    {
     "data": {
      "text/plain": [
       "array(['SS15', 'SS25', 'SS35'], dtype=object)"
      ]
     },
     "execution_count": 6,
     "metadata": {},
     "output_type": "execute_result"
    }
   ],
   "source": [
    "data.SS.unique()"
   ]
  },
  {
   "cell_type": "code",
   "execution_count": 7,
   "metadata": {},
   "outputs": [],
   "source": [
    "data['Product'] = data['Product'].str.strip()"
   ]
  },
  {
   "cell_type": "code",
   "execution_count": 8,
   "metadata": {},
   "outputs": [],
   "source": [
    "data.dropna(axis = 0, subset =['InvoiceNo'], inplace = True)\n",
    "data['InvoiceNo'] = data['InvoiceNo'].astype('str')"
   ]
  },
  {
   "cell_type": "code",
   "execution_count": 9,
   "metadata": {},
   "outputs": [],
   "source": [
    "# Buyings for SS15\n",
    "basket_SS15 = (data[data['SS'] ==\"SS15\"]\n",
    "          .groupby(['InvoiceNo', 'Product'])['Quantity']\n",
    "          .sum().unstack().reset_index().fillna(0)\n",
    "          .set_index('InvoiceNo'))"
   ]
  },
  {
   "cell_type": "code",
   "execution_count": 10,
   "metadata": {},
   "outputs": [],
   "source": [
    "# Buyings for SS25\n",
    "basket_SS25 = (data[data['SS'] ==\"SS25\"]\n",
    "          .groupby(['InvoiceNo', 'Product'])['Quantity']\n",
    "          .sum().unstack().reset_index().fillna(0)\n",
    "          .set_index('InvoiceNo'))"
   ]
  },
  {
   "cell_type": "code",
   "execution_count": 11,
   "metadata": {},
   "outputs": [],
   "source": [
    "# Buyings for SS35\n",
    "basket_SS35 = (data[data['SS'] ==\"SS35\"]\n",
    "          .groupby(['InvoiceNo', 'Product'])['Quantity']\n",
    "          .sum().unstack().reset_index().fillna(0)\n",
    "          .set_index('InvoiceNo'))"
   ]
  },
  {
   "cell_type": "code",
   "execution_count": 12,
   "metadata": {},
   "outputs": [],
   "source": [
    "# Defining the hot encoding function to make the data suitable\n",
    "# for the concerned libraries\n",
    "def hot_encode(x):\n",
    "    if(x<= 0):\n",
    "        return 0\n",
    "    if(x>= 1):\n",
    "        return 1\n",
    " \n",
    "# Encoding the datasets\n",
    "basket_encoded = basket_SS15.applymap(hot_encode)\n",
    "basket_SS15 = basket_encoded\n",
    " \n",
    "basket_encoded = basket_SS25.applymap(hot_encode)\n",
    "basket_SS25 = basket_encoded\n",
    "\n",
    "basket_encoded = basket_SS35.applymap(hot_encode)\n",
    "basket_SS35 = basket_encoded"
   ]
  },
  {
   "cell_type": "code",
   "execution_count": 13,
   "metadata": {},
   "outputs": [
    {
     "name": "stdout",
     "output_type": "stream",
     "text": [
      "    antecedents consequents  antecedent support  consequent support   support  \\\n",
      "6  (Tjestenina)      (Kafa)            0.671642            0.820896  0.611940   \n",
      "5     (Mlijeko)      (Kafa)            0.791045            0.820896  0.686567   \n",
      "1       (Hljeb)      (Kafa)            0.746269            0.820896  0.641791   \n",
      "2       (Hljeb)   (Mlijeko)            0.746269            0.791045  0.626866   \n",
      "4        (Kafa)   (Mlijeko)            0.820896            0.791045  0.686567   \n",
      "\n",
      "   confidence      lift  leverage  conviction  \n",
      "6    0.911111  1.109899  0.060593    2.014925  \n",
      "5    0.867925  1.057290  0.037202    1.356077  \n",
      "1    0.860000  1.047636  0.029182    1.279318  \n",
      "2    0.840000  1.061887  0.036534    1.305970  \n",
      "4    0.836364  1.057290  0.037202    1.276949  \n"
     ]
    }
   ],
   "source": [
    "# Building the model for SS15\n",
    "frq_items = apriori(basket_SS15, min_support = 0.6, use_colnames = True)\n",
    " \n",
    "# Collecting the inferred rules in a dataframe\n",
    "rules = association_rules(frq_items, metric =\"lift\", min_threshold = 1)\n",
    "rules = rules.sort_values(['confidence', 'lift'], ascending =[False, False])\n",
    "print(rules.head())"
   ]
  },
  {
   "cell_type": "code",
   "execution_count": 14,
   "metadata": {},
   "outputs": [
    {
     "name": "stdout",
     "output_type": "stream",
     "text": [
      "              antecedents   consequents  antecedent support  \\\n",
      "1                (Brašno)        (Ulje)                0.64   \n",
      "19  (Tjestenina, Mlijeko)       (Hljeb)                0.60   \n",
      "24     (Tjestenina, Ulje)       (Hljeb)                0.60   \n",
      "26          (Ulje, Hljeb)  (Tjestenina)                0.60   \n",
      "0                  (Ulje)      (Brašno)                0.68   \n",
      "\n",
      "    consequent support  support  confidence      lift  leverage  conviction  \n",
      "1                 0.68     0.64    1.000000  1.470588    0.2048         inf  \n",
      "19                0.80     0.60    1.000000  1.250000    0.1200         inf  \n",
      "24                0.80     0.60    1.000000  1.250000    0.1200         inf  \n",
      "26                0.80     0.60    1.000000  1.250000    0.1200         inf  \n",
      "0                 0.64     0.64    0.941176  1.470588    0.2048        6.12  \n"
     ]
    }
   ],
   "source": [
    "# Building the model for SS25\n",
    "frq_items = apriori(basket_SS25, min_support = 0.6, use_colnames = True)\n",
    " \n",
    "# Collecting the inferred rules in a dataframe\n",
    "rules = association_rules(frq_items, metric =\"lift\", min_threshold = 1)\n",
    "rules = rules.sort_values(['confidence', 'lift'], ascending =[False, False])\n",
    "print(rules.head())"
   ]
  },
  {
   "cell_type": "code",
   "execution_count": 15,
   "metadata": {},
   "outputs": [
    {
     "name": "stdout",
     "output_type": "stream",
     "text": [
      "  antecedents consequents  antecedent support  consequent support  support  \\\n",
      "2  (Piletina)    (Jogurt)               0.625               0.625    0.625   \n",
      "3    (Jogurt)  (Piletina)               0.625               0.625    0.625   \n",
      "1   (Mlijeko)     (Hljeb)               0.625               0.750    0.625   \n",
      "0     (Hljeb)   (Mlijeko)               0.750               0.625    0.625   \n",
      "\n",
      "   confidence      lift  leverage  conviction  \n",
      "2    1.000000  1.600000  0.234375         inf  \n",
      "3    1.000000  1.600000  0.234375         inf  \n",
      "1    1.000000  1.333333  0.156250         inf  \n",
      "0    0.833333  1.333333  0.156250        2.25  \n"
     ]
    }
   ],
   "source": [
    "# Building the model for SS35\n",
    "frq_items = apriori(basket_SS35, min_support = 0.6, use_colnames = True)\n",
    " \n",
    "# Collecting the inferred rules in a dataframe\n",
    "rules = association_rules(frq_items, metric =\"lift\", min_threshold = 1)\n",
    "rules = rules.sort_values(['confidence', 'lift'], ascending =[False, False])\n",
    "print(rules.head())"
   ]
  },
  {
   "cell_type": "code",
   "execution_count": null,
   "metadata": {},
   "outputs": [],
   "source": []
  }
 ],
 "metadata": {
  "kernelspec": {
   "display_name": "Python 3",
   "language": "python",
   "name": "python3"
  },
  "language_info": {
   "codemirror_mode": {
    "name": "ipython",
    "version": 3
   },
   "file_extension": ".py",
   "mimetype": "text/x-python",
   "name": "python",
   "nbconvert_exporter": "python",
   "pygments_lexer": "ipython3",
   "version": "3.9.0"
  }
 },
 "nbformat": 4,
 "nbformat_minor": 4
}
